{
 "cells": [
  {
   "cell_type": "code",
   "execution_count": 1,
   "metadata": {},
   "outputs": [],
   "source": [
    "import cv2\n",
    "import numpy as np"
   ]
  },
  {
   "cell_type": "code",
   "execution_count": 3,
   "metadata": {},
   "outputs": [],
   "source": [
    "img_rgb= cv2.imread('AB negative.jpg')\n",
    "img_gray = cv2.cvtColor(img_rgb,cv2.COLOR_BGR2GRAY)"
   ]
  },
  {
   "cell_type": "code",
   "execution_count": 4,
   "metadata": {},
   "outputs": [],
   "source": [
    "template1= cv2.imread('square.jpg',0)\n",
    "template2= cv2.imread('triangle.jpg',0)\n",
    "template3= cv2.imread('star.jpg',0)\n",
    "template4= cv2.imread('circle.jpg',0)\n",
    "template5= cv2.imread('test 2.jpg',0)\n",
    "w1,h1=template1.shape[::-1]\n",
    "w2,h2=template2.shape[::-1]\n",
    "w3,h3=template3.shape[::-1]\n",
    "w4,h4=template4.shape[::-1]\n",
    "w5,h5=template5.shape[::-1]"
   ]
  },
  {
   "cell_type": "code",
   "execution_count": 5,
   "metadata": {},
   "outputs": [],
   "source": [
    "res1 = cv2.matchTemplate(img_gray,template1,cv2.TM_CCOEFF_NORMED)\n",
    "res2 = cv2.matchTemplate(img_gray,template2,cv2.TM_CCOEFF_NORMED)\n",
    "res3 = cv2.matchTemplate(img_gray,template3,cv2.TM_CCOEFF_NORMED)\n",
    "res4 = cv2.matchTemplate(img_gray,template4,cv2.TM_CCOEFF_NORMED)\n",
    "res5 = cv2.matchTemplate(img_gray,template5,cv2.TM_CCOEFF_NORMED)\n",
    "threshold = 0.8\n",
    "flag1=0\n",
    "flag2=0\n",
    "flag3=0\n",
    "flag4=0"
   ]
  },
  {
   "cell_type": "code",
   "execution_count": 6,
   "metadata": {},
   "outputs": [],
   "source": [
    "loc1=np.where(res1>threshold)\n",
    "loc2=np.where(res2>threshold)\n",
    "loc3=np.where(res3>threshold)\n",
    "loc4=np.where(res4>threshold)\n",
    "loc5=np.where(res5>threshold)\n",
    "\n",
    "square=img_gray[loc1[0][0]:loc1[0][0]+w1,loc1[1][0]:loc1[1][0]+h1]\n",
    "triangle=img_gray[loc2[0][0]:loc2[0][0]+w2,loc2[1][0]:loc2[1][0]+h2]\n",
    "star=img_gray[loc3[0][0]:loc3[0][0]+w3,loc3[1][0]:loc3[1][0]+h3]\n",
    "circle=img_gray[loc4[0][0]:loc4[0][0]+w4,loc4[1][0]:loc4[1][0]+h4]"
   ]
  },
  {
   "cell_type": "code",
   "execution_count": 7,
   "metadata": {},
   "outputs": [],
   "source": [
    "res1_square = cv2.matchTemplate(square,template5,cv2.TM_CCOEFF_NORMED)\n",
    "res2_triangle = cv2.matchTemplate(triangle,template5,cv2.TM_CCOEFF_NORMED)\n",
    "res3_star = cv2.matchTemplate(star,template5,cv2.TM_CCOEFF_NORMED)\n",
    "res4_circle = cv2.matchTemplate(circle,template5,cv2.TM_CCOEFF_NORMED)"
   ]
  },
  {
   "cell_type": "code",
   "execution_count": 8,
   "metadata": {},
   "outputs": [],
   "source": [
    "loc1_square=np.where(res1_square>threshold)\n",
    "loc2_triangle=np.where(res2_triangle>threshold)\n",
    "loc3_star=np.where(res3_star>threshold)\n",
    "loc4_circle=np.where(res4_circle>threshold)"
   ]
  },
  {
   "cell_type": "code",
   "execution_count": 9,
   "metadata": {},
   "outputs": [
    {
     "name": "stdout",
     "output_type": "stream",
     "text": [
      "0\n",
      "0\n",
      "1\n",
      "1\n"
     ]
    }
   ],
   "source": [
    "font = cv2.FONT_HERSHEY_SIMPLEX\n",
    "for pt in zip(*loc1_square[::-1]):\n",
    "    flag1=1\n",
    "\n",
    "for pt in zip(*loc2_triangle[::-1]):\n",
    "    flag2=1\n",
    "    \n",
    "for pt in zip(*loc3_star[::-1]):\n",
    "    flag3=1\n",
    "\n",
    "for pt in zip(*loc4_circle[::-1]):\n",
    "    flag4=1    \n",
    "    \n",
    "print(flag1)\n",
    "print(flag2)\n",
    "print(flag3)\n",
    "print(flag4)"
   ]
  },
  {
   "cell_type": "code",
   "execution_count": 10,
   "metadata": {},
   "outputs": [
    {
     "name": "stdout",
     "output_type": "stream",
     "text": [
      "AB Negative\n"
     ]
    }
   ],
   "source": [
    "if flag1==0 and flag2==1 and flag3==0 and flag4==1:\n",
    "    print('A Positive')\n",
    "elif flag1==0 and flag2==1 and flag3==1 and flag4==1:\n",
    "    print('A Negetive')    \n",
    "elif flag1==1 and flag2==0 and flag3==0 and flag4==1:\n",
    "    print('B Positive')\n",
    "elif flag1==1 and flag2==0 and flag3==1 and flag4==1:\n",
    "    print('B Negative')\n",
    "elif flag1==0 and flag2==0 and flag3==0 and flag4==1:\n",
    "    print('AB Positive')\n",
    "elif flag1==0 and flag2==0 and flag3==1 and flag4==1:\n",
    "    print('AB Negative') \n",
    "elif flag1==1 and flag2==1 and flag3==0 and flag4==1:\n",
    "    print('O Positive')\n",
    "elif flag1==1 and flag2==1 and flag3==1 and flag4==1:\n",
    "    print('O Negative')\n",
    "else :\n",
    "    print('invalide')"
   ]
  },
  {
   "cell_type": "code",
   "execution_count": null,
   "metadata": {},
   "outputs": [],
   "source": []
  },
  {
   "cell_type": "code",
   "execution_count": null,
   "metadata": {},
   "outputs": [],
   "source": []
  }
 ],
 "metadata": {
  "kernelspec": {
   "display_name": "Python 3",
   "language": "python",
   "name": "python3"
  },
  "language_info": {
   "codemirror_mode": {
    "name": "ipython",
    "version": 3
   },
   "file_extension": ".py",
   "mimetype": "text/x-python",
   "name": "python",
   "nbconvert_exporter": "python",
   "pygments_lexer": "ipython3",
   "version": "3.7.1"
  }
 },
 "nbformat": 4,
 "nbformat_minor": 2
}
